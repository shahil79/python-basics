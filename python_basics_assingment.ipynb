{
  "nbformat": 4,
  "nbformat_minor": 0,
  "metadata": {
    "colab": {
      "provenance": []
    },
    "kernelspec": {
      "name": "python3",
      "display_name": "Python 3"
    },
    "language_info": {
      "name": "python"
    }
  },
  "cells": [
    {
      "cell_type": "markdown",
      "source": [
        "# **python basic Assignment**"
      ],
      "metadata": {
        "id": "IdIORCBbi5QN"
      }
    },
    {
      "cell_type": "markdown",
      "source": [
        "## **Theory Questions**"
      ],
      "metadata": {
        "id": "nMCQgRUSTSTP"
      }
    },
    {
      "cell_type": "markdown",
      "source": [
        "**1. What is Python, and why is it popular?**\n",
        "\n",
        "Answer- Python is a high-level, interpreted programming language known for its readability and simplicity.\n",
        "\n",
        "It's popular due to its versatility, large community support, extensive libraries, and ease of learning. It's used in web development, data science, artificial intelligence, scientific computing, and more.\n"
      ],
      "metadata": {
        "id": "gRsl4l_z1hdw"
      }
    },
    {
      "cell_type": "markdown",
      "source": [
        "**2. What is an interpreter in Python?**\n",
        "\n",
        "Answer- In Python, an interpreter is like a translator. When you write Python code, the interpreter reads your code line by line and translates it into instructions that the computer can understand and execute immediately. This is different from compiled languages, where the entire code is translated into an executable file before it's run.\n"
      ],
      "metadata": {
        "id": "gii63ZAxTc-U"
      }
    },
    {
      "cell_type": "markdown",
      "source": [
        "**3. What are pre-defined keywords in Python?**\n",
        "\n",
        "Answer- Pre-defined keywords in Python are special words that have a specific meaning and purpose in the language. You cannot use these keywords as variable names, function names, or any other identifiers. They are part of Python's syntax and are used to define the structure and logic of your code. Examples include if, else, for, while, def, class, import, return, True, False, None, etc.\n"
      ],
      "metadata": {
        "id": "mbIlOQBMThA6"
      }
    },
    {
      "cell_type": "markdown",
      "source": [
        "**4. Can keywords be used as variable names?**\n",
        "\n",
        "Answer- No, keywords cannot be used as variable names in Python. They are reserved words with specific meanings and using them as variable names will result in a SyntaxError.\n",
        "\n"
      ],
      "metadata": {
        "id": "Q7DQHVOJTkJl"
      }
    },
    {
      "cell_type": "markdown",
      "source": [
        "**5. What is mutability in Python?**\n",
        "\n",
        "Answer- Mutability refers to whether an object's value or state can be changed after it has been created."
      ],
      "metadata": {
        "id": "Vm_-zYPmTtrf"
      }
    },
    {
      "cell_type": "code",
      "source": [
        "#Example of Mutable objects\n",
        "numbers = [1, 2, 3, 4, 5]\n",
        "numbers.append(6)\n",
        "print(numbers)"
      ],
      "metadata": {
        "colab": {
          "base_uri": "https://localhost:8080/"
        },
        "id": "_tpZ5x0tYDVS",
        "outputId": "fe461b75-4ee6-4ed4-b39f-ca8a0f2bea54"
      },
      "execution_count": 2,
      "outputs": [
        {
          "output_type": "stream",
          "name": "stdout",
          "text": [
            "[1, 2, 3, 4, 5, 6]\n"
          ]
        }
      ]
    },
    {
      "cell_type": "markdown",
      "source": [
        "**6. Why are lists mutable, but tuples are immutable?**\n",
        "\n",
        "answer- Lists are mutable because they’re designed for collections that change, allowing elements to be added, removed, or modified in place.\n",
        "\n",
        "Tuples are immutable because they’re meant for fixed data, which improves safety, allows use as dictionary keys, and enables Python to store them more efficiently."
      ],
      "metadata": {
        "id": "tyg2hSe6YpE-"
      }
    },
    {
      "cell_type": "markdown",
      "source": [
        "**7. What is the difference between “==” and “is” operators in Python?**\n",
        "\n",
        "Answer- \"==\" (Equality operator) → Checks whether the values of two objects are the same, regardless of whether they are stored in different memory locations.\n",
        "\n",
        "is (Identity operator) → Checks whether two variables refer to the exact same object in memory (same identity), not just if their contents are equal.\n"
      ],
      "metadata": {
        "id": "arhZ8Z-9cupD"
      }
    },
    {
      "cell_type": "code",
      "source": [
        "# For example\n",
        "a = [1, 2]\n",
        "b = [1, 2]\n",
        "\n",
        "print(a == b)  # True  (values are equal)\n",
        "print(a is b)  # False (different objects in memory)"
      ],
      "metadata": {
        "colab": {
          "base_uri": "https://localhost:8080/"
        },
        "id": "RIC1XweNbs-h",
        "outputId": "8fd80cb8-6918-4ea2-8287-9c433afb8a2f"
      },
      "execution_count": 3,
      "outputs": [
        {
          "output_type": "stream",
          "name": "stdout",
          "text": [
            "True\n",
            "False\n"
          ]
        }
      ]
    },
    {
      "cell_type": "markdown",
      "source": [
        "**8. What are logical operators in Python?**\n",
        "\n",
        "Answer- Logical operators are used to combine or compare conditions and return either True or False.\n",
        "\n",
        "The three main logical operators are:\n",
        "\n",
        "and – Returns True if both conditions are True.\n",
        "\n",
        "or – Returns True if at least one condition is True.\n",
        "\n",
        "not – Reverses the result; returns True if the condition is False."
      ],
      "metadata": {
        "id": "FHzYrKpod1MR"
      }
    },
    {
      "cell_type": "code",
      "source": [
        "#for example\n",
        "a = 5\n",
        "b = 10\n",
        "\n",
        "print(a > 0 and b > 0)\n",
        "print(a > 0 or b < 0)\n",
        "print(not(a > 0))\n"
      ],
      "metadata": {
        "colab": {
          "base_uri": "https://localhost:8080/"
        },
        "id": "oRskED97e_aJ",
        "outputId": "615fc39f-ff96-4cd9-edbb-ccc0dcbe785e"
      },
      "execution_count": 4,
      "outputs": [
        {
          "output_type": "stream",
          "name": "stdout",
          "text": [
            "True\n",
            "True\n",
            "False\n"
          ]
        }
      ]
    },
    {
      "cell_type": "markdown",
      "source": [
        "**9. What is type casting in Python?**\n",
        "\n",
        "Answer-Type casting in Python is changing an object from one data type to another. we do this when we need a value to be a specific type for an operation .\n",
        "\n",
        "There are two ways:\n",
        "\n",
        ">Implicit: Python does it automatically when it's safe (like adding an integer and a float).\n",
        "\n",
        ">Explicit: You do it manually using functions like int(), float(), str().\n",
        "\n",
        "- for example ->"
      ],
      "metadata": {
        "id": "ZQi3KuY0b65R"
      }
    },
    {
      "cell_type": "code",
      "source": [
        "# Implicit Type Casting – Python automatically converts one type to another when needed.\n",
        "\n",
        "num = 5  #int\n",
        "result = num + 2.5 # int + float → Python converts int to float\n",
        "print(result)"
      ],
      "metadata": {
        "colab": {
          "base_uri": "https://localhost:8080/"
        },
        "id": "kJYp7jERiQHt",
        "outputId": "64e5b41b-dce8-4b5a-cc03-a96c37059877"
      },
      "execution_count": 5,
      "outputs": [
        {
          "output_type": "stream",
          "name": "stdout",
          "text": [
            "7.5\n"
          ]
        }
      ]
    },
    {
      "cell_type": "code",
      "source": [
        "# Explicit Type Casting – You manually convert the type using functions like int(), float(), str(), etc.\n",
        "\n",
        "x = \"10\"\n",
        "y = int(x)  # convert string to int\n",
        "print(y + 5)  # 15"
      ],
      "metadata": {
        "colab": {
          "base_uri": "https://localhost:8080/"
        },
        "id": "u2Mp6vNFirlG",
        "outputId": "42ff4998-9db0-4178-c645-b65b0e670a7c"
      },
      "execution_count": 6,
      "outputs": [
        {
          "output_type": "stream",
          "name": "stdout",
          "text": [
            "15\n"
          ]
        }
      ]
    },
    {
      "cell_type": "markdown",
      "source": [
        "**10. What is the difference between implicit and explicit type casting?**\n",
        "\n",
        "Answer- Difference between Implicit and Explicit Type Casting in Python--\n",
        "\n",
        ">Implicit Type Casting ->\n",
        "- Done automatically by Python.\n",
        "- It happens when Python needs to convert one type to another to avoid data loss.\n",
        "- Risk of data loss\tis very low.\n",
        "- No function is used.\n",
        "\n",
        ">Explicit Type Casting ->\n",
        "- Done manually by the programmer.\n",
        "- it happens when anyone intentionally change a value’s type.\n",
        "- Risk of data loss is Possible.\n",
        "- Uses functions like int(), float(), str(), list()."
      ],
      "metadata": {
        "id": "Xz7GtdtUjDr5"
      }
    },
    {
      "cell_type": "markdown",
      "source": [
        "**11. What is the purpose of conditional statements in Python?**\n",
        "\n",
        "Answer- The purpose of conditional statements in Python is to control the flow of a program by executing certain blocks of code only when specific conditions are met. They help in making decisions, handling different situations, and creating dynamic behavior based on data or program state.\n",
        "\n",
        "Main conditional statements in Python:\n",
        "\n",
        "if – Executes a block of code if the condition is true.\n",
        "\n",
        "elif – Checks another condition if the previous ones are false.\n",
        "\n",
        "else – Executes a block of code if all previous conditions are false.\n"
      ],
      "metadata": {
        "id": "SDuR_UqTlXHH"
      }
    },
    {
      "cell_type": "markdown",
      "source": [
        "**12. How does the elif statement work?**\n",
        "\n",
        "Answer- The elif statement in Python is used for checking multiple conditions after an initial if statement.\n",
        "It stands for \"else if\" and is evaluated only if the if condition before it is False.\n",
        "\n",
        ">How it works.\n",
        "\n",
        "- Python checks the if condition first.\n",
        "\n",
        "- If the if condition is True, its block runs and all other elif/else blocks are skipped.\n",
        "\n",
        "- If the if condition is False, Python checks the first elif condition.\n",
        "\n",
        "- If that elif is True, its block runs and the rest are skipped.\n",
        "\n",
        "- If all conditions are False, the else block (if present) runs."
      ],
      "metadata": {
        "id": "GTjq3jaYmAlT"
      }
    },
    {
      "cell_type": "markdown",
      "source": [
        "**13. What is the difference between for and while loops?**\n",
        "\n",
        "Answer- Difference between for and while loops in Python ->\n",
        ">for loop ->\n",
        "- Used when the number of iterations is known or when iterating over a sequence.\n",
        "- Controlled by an iterable (e.g., list, range) or iterator.\n",
        "- Usually handled automatically when looping over a sequence.\n",
        "\n",
        ">while loop->\n",
        "- Used when the number of iterations is not known in advance; runs until a condition becomes false.\n",
        "- Controlled by a condition that is checked before each iteration.\n",
        "- Must manually initialize variables before the loop."
      ],
      "metadata": {
        "id": "_CINmke-mxfH"
      }
    },
    {
      "cell_type": "markdown",
      "source": [
        "**14. Describe a scenario where a while loop is more suitable than a for loop.**\n",
        "\n",
        "Answer- A while loop is more suitable when the number of repetitions cannot be determined beforehand and the loop needs to continue until a certain condition is met.\n"
      ],
      "metadata": {
        "id": "j74kfQQqn9Xe"
      }
    },
    {
      "cell_type": "code",
      "source": [
        "# scenario:\n",
        "# Count numbers until reaching 5.\n",
        "\n",
        "num = 1\n",
        "while num <= 5:\n",
        "    print(num)\n",
        "    num += 1"
      ],
      "metadata": {
        "colab": {
          "base_uri": "https://localhost:8080/"
        },
        "id": "lO6ZHhC2o4RT",
        "outputId": "a0f28e48-f09f-4f1f-fd14-77dc5b577995"
      },
      "execution_count": 7,
      "outputs": [
        {
          "output_type": "stream",
          "name": "stdout",
          "text": [
            "1\n",
            "2\n",
            "3\n",
            "4\n",
            "5\n"
          ]
        }
      ]
    },
    {
      "cell_type": "markdown",
      "source": [
        "**Why suitable:**\n",
        "\n",
        "The loop runs until num becomes greater than 5.\n",
        "\n",
        "The number of repeats depends on the condition,\n",
        "\n",
        "not a fixed range given at the start.\n"
      ],
      "metadata": {
        "id": "cnDf--w9phYP"
      }
    },
    {
      "cell_type": "markdown",
      "source": [
        "## **Practical Questions**"
      ],
      "metadata": {
        "id": "wLtdbrstiorj"
      }
    },
    {
      "cell_type": "code",
      "execution_count": 13,
      "metadata": {
        "id": "E6egqj3s1VNm",
        "colab": {
          "base_uri": "https://localhost:8080/"
        },
        "outputId": "bf5c0178-14a3-4b67-a5e4-87fd903334f1"
      },
      "outputs": [
        {
          "output_type": "stream",
          "name": "stdout",
          "text": [
            "Hello, World!\n"
          ]
        }
      ],
      "source": [
        "# 1. Write a Python program to print \"Hello, World!\"\n",
        "\n",
        "print(\"Hello, World!\")"
      ]
    },
    {
      "cell_type": "code",
      "source": [
        "# 2. Write a Python program that displays your name and age.\n",
        "\n",
        "name = \"shahil\"\n",
        "age = 21\n",
        "print(f\"my name is {name} and i am {age} year old\")"
      ],
      "metadata": {
        "colab": {
          "base_uri": "https://localhost:8080/"
        },
        "id": "HOpqizxMlefw",
        "outputId": "2c902497-7c46-48c2-d4b6-99a58b4e90b5"
      },
      "execution_count": 14,
      "outputs": [
        {
          "output_type": "stream",
          "name": "stdout",
          "text": [
            "my name is shahil and i am 21 year old\n"
          ]
        }
      ]
    },
    {
      "cell_type": "code",
      "source": [
        "# 3. Write code to print all the pre-defined keywords in Python using the keyword library.\n",
        "\n",
        "import keyword\n",
        "print(keyword.kwlist)"
      ],
      "metadata": {
        "colab": {
          "base_uri": "https://localhost:8080/"
        },
        "id": "sjHg7W8TmLnO",
        "outputId": "cf389a1d-8761-4665-e395-bb9a1235df20"
      },
      "execution_count": 15,
      "outputs": [
        {
          "output_type": "stream",
          "name": "stdout",
          "text": [
            "['False', 'None', 'True', 'and', 'as', 'assert', 'async', 'await', 'break', 'class', 'continue', 'def', 'del', 'elif', 'else', 'except', 'finally', 'for', 'from', 'global', 'if', 'import', 'in', 'is', 'lambda', 'nonlocal', 'not', 'or', 'pass', 'raise', 'return', 'try', 'while', 'with', 'yield']\n"
          ]
        }
      ]
    },
    {
      "cell_type": "code",
      "source": [
        "# 4. Write a program that checks if a given word is a Python keyword.\n",
        "\n",
        "import keyword\n",
        "word = input(\"enter the word: \")\n",
        "if keyword.iskeyword(word):\n",
        "    print(f\"{word} is a python keyword\")\n",
        "else:\n",
        "    print(f\"{word} is not a python keyword\")"
      ],
      "metadata": {
        "colab": {
          "base_uri": "https://localhost:8080/"
        },
        "id": "HgHtQowGCHQs",
        "outputId": "41a634cc-fd6f-466e-cc49-e9614ff9bed0"
      },
      "execution_count": 16,
      "outputs": [
        {
          "output_type": "stream",
          "name": "stdout",
          "text": [
            "enter the word: if\n",
            "if is a python keyword\n"
          ]
        }
      ]
    },
    {
      "cell_type": "code",
      "source": [
        "# 5. Create a list and tuple in Python, and demonstrate how attempting to change an element works differently for each.\n",
        "\n",
        "lst = [1,2,3,6]\n",
        "print(\"list before changing element\", lst)\n",
        "lst[3]=5\n",
        "print(\"list after changing element\", lst)\n",
        "tpl = (9,8,7,5)\n",
        "print(\"tuple before changing element\", tpl)\n",
        "tpl[3]=6\n",
        "print(\"tuple after changing element\", tpl)"
      ],
      "metadata": {
        "colab": {
          "base_uri": "https://localhost:8080/",
          "height": 245
        },
        "id": "W36XZxvjC1im",
        "outputId": "1feb3450-8b8d-454e-eb97-8b765e222e1d"
      },
      "execution_count": 17,
      "outputs": [
        {
          "output_type": "stream",
          "name": "stdout",
          "text": [
            "list before changing element [1, 2, 3, 6]\n",
            "list after changing element [1, 2, 3, 5]\n",
            "tuple before changing element (9, 8, 7, 5)\n"
          ]
        },
        {
          "output_type": "error",
          "ename": "TypeError",
          "evalue": "'tuple' object does not support item assignment",
          "traceback": [
            "\u001b[0;31m---------------------------------------------------------------------------\u001b[0m",
            "\u001b[0;31mTypeError\u001b[0m                                 Traceback (most recent call last)",
            "\u001b[0;32m/tmp/ipython-input-4015426297.py\u001b[0m in \u001b[0;36m<cell line: 0>\u001b[0;34m()\u001b[0m\n\u001b[1;32m      7\u001b[0m \u001b[0mtpl\u001b[0m \u001b[0;34m=\u001b[0m \u001b[0;34m(\u001b[0m\u001b[0;36m9\u001b[0m\u001b[0;34m,\u001b[0m\u001b[0;36m8\u001b[0m\u001b[0;34m,\u001b[0m\u001b[0;36m7\u001b[0m\u001b[0;34m,\u001b[0m\u001b[0;36m5\u001b[0m\u001b[0;34m)\u001b[0m\u001b[0;34m\u001b[0m\u001b[0;34m\u001b[0m\u001b[0m\n\u001b[1;32m      8\u001b[0m \u001b[0mprint\u001b[0m\u001b[0;34m(\u001b[0m\u001b[0;34m\"tuple before changing element\"\u001b[0m\u001b[0;34m,\u001b[0m \u001b[0mtpl\u001b[0m\u001b[0;34m)\u001b[0m\u001b[0;34m\u001b[0m\u001b[0;34m\u001b[0m\u001b[0m\n\u001b[0;32m----> 9\u001b[0;31m \u001b[0mtpl\u001b[0m\u001b[0;34m[\u001b[0m\u001b[0;36m3\u001b[0m\u001b[0;34m]\u001b[0m\u001b[0;34m=\u001b[0m\u001b[0;36m6\u001b[0m\u001b[0;34m\u001b[0m\u001b[0;34m\u001b[0m\u001b[0m\n\u001b[0m\u001b[1;32m     10\u001b[0m \u001b[0mprint\u001b[0m\u001b[0;34m(\u001b[0m\u001b[0;34m\"tuple after changing element\"\u001b[0m\u001b[0;34m,\u001b[0m \u001b[0mtpl\u001b[0m\u001b[0;34m)\u001b[0m\u001b[0;34m\u001b[0m\u001b[0;34m\u001b[0m\u001b[0m\n",
            "\u001b[0;31mTypeError\u001b[0m: 'tuple' object does not support item assignment"
          ]
        }
      ]
    },
    {
      "cell_type": "code",
      "source": [
        "# 6. Write a function to demonstrate the behavior of mutable and immutable arguments.\n",
        "\n",
        "def mutable():\n",
        "  my_lst=[1,2,6,4]#list\n",
        "  print(\"original list: \",my_lst)\n",
        "  #changing an element in list\n",
        "  my_lst[2]=5\n",
        "  print(\"list after changing an element :\",my_lst)\n",
        "def immutable():\n",
        "  my_tuple=(2,4,3,6,) #tuple\n",
        "  print(\"original tuple: \",my_tuple)\n",
        "  #changing an element in list\n",
        "  try:\n",
        "    my_tuple[2]=5\n",
        "    print(\"Tuple after changing an element :\",my_tuple)\n",
        "  except:\n",
        "    print(\"Tuple is Immutable\")\n",
        "\n",
        "mutable()\n",
        "immutable()\n"
      ],
      "metadata": {
        "id": "ahx0ooEzEN8Z",
        "colab": {
          "base_uri": "https://localhost:8080/"
        },
        "outputId": "69371f31-d796-4e42-9589-33e0eab77576"
      },
      "execution_count": 26,
      "outputs": [
        {
          "output_type": "stream",
          "name": "stdout",
          "text": [
            "original list:  [1, 2, 6, 4]\n",
            "list after changing an element : [1, 2, 5, 4]\n",
            "original tuple:  (2, 4, 3, 6)\n",
            "Tuple is Immutable\n"
          ]
        }
      ]
    },
    {
      "cell_type": "code",
      "source": [
        "6# 7. Write a program that performs basic arithmetic operations on two user-input numbers.\n",
        "\n",
        "num1 = int(input(\"enter the first number: \"))\n",
        "num2 = int(input(\"enter the second number: \"))\n",
        "print(f\"addition of {num1} and {num2} is {num1+num2}\")\n",
        "print(f\"subtraction of {num1} and {num2} is {num1-num2}\")\n",
        "print(f\"multiplication of {num1} and {num2} is {num1*num2}\")\n",
        "print(f\"division of {num1} and {num2} is {num1/num2}\")\n",
        "print(f\"floor division of {num1} and {num2} is {num1//num2}\")\n",
        "print(f\"modulus of {num1} and {num2} is {num1%num2}\")\n",
        "print(f\"exponent of {num1} and {num2} is {num1**num2}\")"
      ],
      "metadata": {
        "colab": {
          "base_uri": "https://localhost:8080/"
        },
        "id": "goDXPiVEF3pI",
        "outputId": "308a2ca6-3ab1-4388-b24a-62f32c3a537a"
      },
      "execution_count": 18,
      "outputs": [
        {
          "output_type": "stream",
          "name": "stdout",
          "text": [
            "enter the first number: 5\n",
            "enter the second number: 6\n",
            "addition of 5 and 6 is 11\n",
            "subtraction of 5 and 6 is -1\n",
            "multiplication of 5 and 6 is 30\n",
            "division of 5 and 6 is 0.8333333333333334\n",
            "floor division of 5 and 6 is 0\n",
            "modulus of 5 and 6 is 5\n",
            "exponent of 5 and 6 is 15625\n"
          ]
        }
      ]
    },
    {
      "cell_type": "code",
      "source": [
        "# 8. Write a program to demonstrate the use of logical operators.\n",
        "\n",
        "num1 = True\n",
        "num2 = False\n",
        "print(f\"logical and of {num1} and {num2} is {num1 and num2}\")\n",
        "print(f\"logical or of {num1} and {num2} is {num1 or num2}\")\n",
        "print(f\"logical not of {num1} is {not num1}\")"
      ],
      "metadata": {
        "colab": {
          "base_uri": "https://localhost:8080/"
        },
        "id": "34h_yRM9GgUf",
        "outputId": "fd2e94f6-f136-4a12-ab77-961b43b1214b"
      },
      "execution_count": 19,
      "outputs": [
        {
          "output_type": "stream",
          "name": "stdout",
          "text": [
            "logical and of True and False is False\n",
            "logical or of True and False is True\n",
            "logical not of True is False\n"
          ]
        }
      ]
    },
    {
      "cell_type": "code",
      "source": [
        "# 9. Write a Python program to convert user input from string to integer, float, and boolean types.\n",
        "\n",
        "num = input(\"enter the number: \")\n",
        "print(\"The number is\", num)\n",
        "print(f\"string to integer conversion of {num} is {int(num)}\")\n",
        "print(f\"string to float conversion of {num} is {float(num)}\")\n",
        "print(f\"string to boolean conversion of {num} is {bool(num)}\")"
      ],
      "metadata": {
        "colab": {
          "base_uri": "https://localhost:8080/"
        },
        "id": "E4zjnL5uIPzY",
        "outputId": "c2009d36-5484-4413-8106-2fb83f0ee88a"
      },
      "execution_count": 20,
      "outputs": [
        {
          "output_type": "stream",
          "name": "stdout",
          "text": [
            "enter the number: 45\n",
            "The number is 45\n",
            "string to integer conversion of 45 is 45\n",
            "string to float conversion of 45 is 45.0\n",
            "string to boolean conversion of 45 is True\n"
          ]
        }
      ]
    },
    {
      "cell_type": "code",
      "source": [
        "# 10. Write code to demonstrate type casting with list elements.\n",
        "\n",
        "#lst1 consist of float and integer\n",
        "def implicit(lst1):\n",
        "  total_sum=sum(lst1)\n",
        "  print(total_sum)\n",
        "\n",
        "def explicit(lst2):\n",
        "  num=[int(i) for i in lst2]\n",
        "  total_sum2=sum(num)\n",
        "  print(total_sum2)\n",
        "\n",
        "#lst2 consist of string and integer\n",
        "lst1=[1,2,3.3,4.5,6.0]\n",
        "lst2=['1','2','3','4','5']\n",
        "implicit(lst1)\n",
        "explicit(lst2)"
      ],
      "metadata": {
        "id": "MzC-Bv1YJEg_",
        "colab": {
          "base_uri": "https://localhost:8080/"
        },
        "outputId": "d167a674-748f-45ce-d53e-d1c02a744908"
      },
      "execution_count": 27,
      "outputs": [
        {
          "output_type": "stream",
          "name": "stdout",
          "text": [
            "16.8\n",
            "15\n"
          ]
        }
      ]
    },
    {
      "cell_type": "code",
      "source": [
        "# 11. Write a program that checks if a number is positive, negative, or zero.\n",
        "\n",
        "num = int(input(\"enter the number: \"))\n",
        "if num > 0:\n",
        "    print(f\"{num} is positive\")\n",
        "elif num < 0:\n",
        "    print(f\"{num} is negative\")\n",
        "else:\n",
        "    print(f\"{num} is zero\")"
      ],
      "metadata": {
        "colab": {
          "base_uri": "https://localhost:8080/"
        },
        "id": "RviJsSseM194",
        "outputId": "abcb0eb8-9b55-4e5a-f1c7-40e51d9b55df"
      },
      "execution_count": 21,
      "outputs": [
        {
          "output_type": "stream",
          "name": "stdout",
          "text": [
            "enter the number: 7\n",
            "7 is positive\n"
          ]
        }
      ]
    },
    {
      "cell_type": "code",
      "source": [
        "# 12. Write a for loop to print numbers from 1 to 10.\n",
        "\n",
        "for i in range(1,11):\n",
        "  print(i)"
      ],
      "metadata": {
        "colab": {
          "base_uri": "https://localhost:8080/"
        },
        "id": "I0PoeSG3NKDg",
        "outputId": "da73012f-bf0a-47a3-ced6-5440522c2401"
      },
      "execution_count": 22,
      "outputs": [
        {
          "output_type": "stream",
          "name": "stdout",
          "text": [
            "1\n",
            "2\n",
            "3\n",
            "4\n",
            "5\n",
            "6\n",
            "7\n",
            "8\n",
            "9\n",
            "10\n"
          ]
        }
      ]
    },
    {
      "cell_type": "code",
      "source": [
        "# 13. Write a Python program to find the sum of all even numbers between 1 and 50.\n",
        "sum_of_evens = 0\n",
        "for even_numbers in range(2, 51, 2):\n",
        "    sum_of_evens += even_numbers\n",
        "print(sum_of_evens)"
      ],
      "metadata": {
        "colab": {
          "base_uri": "https://localhost:8080/"
        },
        "id": "eaKc5JwJNgto",
        "outputId": "19f2d156-a5da-43cb-ab07-c1106369c042"
      },
      "execution_count": 23,
      "outputs": [
        {
          "output_type": "stream",
          "name": "stdout",
          "text": [
            "650\n"
          ]
        }
      ]
    },
    {
      "cell_type": "code",
      "source": [
        "# 14. Write a program to reverse a string using a while loop.\n",
        "\n",
        "my_string = input(\"Enter a string to reverse: \")\n",
        "i = len(my_string) - 1\n",
        "while i >= 0:\n",
        "  print(my_string[i],end=\"\")\n",
        "  i-=1"
      ],
      "metadata": {
        "colab": {
          "base_uri": "https://localhost:8080/"
        },
        "id": "VAIpppTbOjQ6",
        "outputId": "83175f6a-8cb9-4bc8-e3ca-c0ba26c6520d"
      },
      "execution_count": 24,
      "outputs": [
        {
          "output_type": "stream",
          "name": "stdout",
          "text": [
            "Enter a string to reverse: hello world\n",
            "dlrow olleh"
          ]
        }
      ]
    },
    {
      "cell_type": "code",
      "metadata": {
        "colab": {
          "base_uri": "https://localhost:8080/"
        },
        "id": "5c3b8718",
        "outputId": "98a9b07a-f05a-405d-c2fa-d3c2d44825e6"
      },
      "source": [
        "# 15. Write a Python program to calculate the factorial of a number provided by the user using a while loop.\n",
        "\n",
        "num=int(input(\"Enter the number :\"))\n",
        "i=2\n",
        "factorial=1\n",
        "while i<=num:\n",
        "  factorial*=i\n",
        "  i+=1\n",
        "print(f\"factorial of {num} is {factorial}\")"
      ],
      "execution_count": 25,
      "outputs": [
        {
          "output_type": "stream",
          "name": "stdout",
          "text": [
            "Enter the number :7\n",
            "factorial of 7 is 5040\n"
          ]
        }
      ]
    }
  ]
}